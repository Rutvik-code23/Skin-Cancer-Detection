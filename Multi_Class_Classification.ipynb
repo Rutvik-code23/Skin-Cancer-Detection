{
  "nbformat": 4,
  "nbformat_minor": 0,
  "metadata": {
    "colab": {
      "provenance": [],
      "gpuType": "T4"
    },
    "kernelspec": {
      "name": "python3",
      "display_name": "Python 3"
    },
    "language_info": {
      "name": "python"
    },
    "accelerator": "GPU"
  },
  "cells": [
    {
      "cell_type": "code",
      "source": [
        "import pandas as pd\n",
        "import numpy as np\n",
        "import matplotlib.pyplot as plt\n",
        "import seaborn as sns\n",
        "import tensorflow as tf\n",
        "import keras\n",
        "from tensorflow.keras.models import Sequential\n",
        "from tensorflow.keras.layers import Dense, Dropout, Activation, Flatten, Conv2D, MaxPooling2D, BatchNormalization\n",
        "from tensorflow.keras.preprocessing.image import ImageDataGenerator\n",
        "import os\n",
        "import shutil\n",
        "from tensorflow.keras.applications import ResNet50, VGG16\n",
        "from tensorflow.keras.preprocessing.image import ImageDataGenerator\n"
      ],
      "metadata": {
        "id": "zuJ4tWCKRNqE"
      },
      "execution_count": null,
      "outputs": []
    },
    {
      "cell_type": "code",
      "execution_count": null,
      "metadata": {
        "id": "GJN6l3ZGCWE7",
        "colab": {
          "base_uri": "https://localhost:8080/"
        },
        "outputId": "b3bbb1fa-6c9a-4183-8e7d-bf7767f79fd2"
      },
      "outputs": [
        {
          "output_type": "stream",
          "name": "stdout",
          "text": [
            "✅ All classes combined successfully into: /content/Train\n"
          ]
        }
      ],
      "source": [
        "# Paths\n",
        "source_dirs = [\n",
        "    '/content/drive/MyDrive/Final Dataset/Train/Cancerous',\n",
        "    '/content/drive/MyDrive/Final Dataset/Train/Non Cancerous'\n",
        "]\n",
        "\n",
        "target_dir = '/content/Train'\n",
        "os.makedirs(target_dir, exist_ok=True)\n",
        "\n",
        "# Merge all subclass folders into target_dir\n",
        "for category_path in source_dirs:\n",
        "    for subclass in os.listdir(category_path):\n",
        "        subclass_path = os.path.join(category_path, subclass)\n",
        "        dest_path = os.path.join(target_dir, subclass)\n",
        "\n",
        "        # Create target folder if it doesn't exist\n",
        "        os.makedirs(dest_path, exist_ok=True)\n",
        "\n",
        "        # Copy all image files\n",
        "        for img_file in os.listdir(subclass_path):\n",
        "            src_file = os.path.join(subclass_path, img_file)\n",
        "            dst_file = os.path.join(dest_path, img_file)\n",
        "\n",
        "            # Handle duplicate names\n",
        "            if os.path.exists(dst_file):\n",
        "                base, ext = os.path.splitext(img_file)\n",
        "                dst_file = os.path.join(dest_path, f\"{base}_copy{ext}\")\n",
        "\n",
        "            shutil.copy2(src_file, dst_file)\n",
        "\n",
        "print(\"✅ All classes combined successfully into:\", target_dir)\n"
      ]
    },
    {
      "cell_type": "code",
      "source": [
        "# Paths\n",
        "source_dirs = [\n",
        "    '/content/drive/MyDrive/Final Dataset/Val/Cancerous',\n",
        "    '/content/drive/MyDrive/Final Dataset/Val/Non Cancerous'\n",
        "]\n",
        "\n",
        "target_dir = '/content/Val'\n",
        "os.makedirs(target_dir, exist_ok=True)\n",
        "\n",
        "# Merge all subclass folders into target_dir\n",
        "for category_path in source_dirs:\n",
        "    for subclass in os.listdir(category_path):\n",
        "        subclass_path = os.path.join(category_path, subclass)\n",
        "        dest_path = os.path.join(target_dir, subclass)\n",
        "\n",
        "        # Create target folder if it doesn't exist\n",
        "        os.makedirs(dest_path, exist_ok=True)\n",
        "\n",
        "        # Copy all image files\n",
        "        for img_file in os.listdir(subclass_path):\n",
        "            src_file = os.path.join(subclass_path, img_file)\n",
        "            dst_file = os.path.join(dest_path, img_file)\n",
        "\n",
        "            # Handle duplicate names\n",
        "            if os.path.exists(dst_file):\n",
        "                base, ext = os.path.splitext(img_file)\n",
        "                dst_file = os.path.join(dest_path, f\"{base}_copy{ext}\")\n",
        "\n",
        "            shutil.copy2(src_file, dst_file)\n",
        "\n",
        "print(\"✅ All classes combined successfully into:\", target_dir)\n"
      ],
      "metadata": {
        "colab": {
          "base_uri": "https://localhost:8080/"
        },
        "id": "iB9XNfx8QVKT",
        "outputId": "08960191-9dfe-4929-bb9d-a7857d10162f"
      },
      "execution_count": null,
      "outputs": [
        {
          "output_type": "stream",
          "name": "stdout",
          "text": [
            "✅ All classes combined successfully into: /content/Val\n"
          ]
        }
      ]
    },
    {
      "cell_type": "code",
      "source": [
        "from tensorflow.keras.preprocessing.image import ImageDataGenerator, img_to_array, load_img\n",
        "import os\n",
        "\n",
        "# Define augmenter\n",
        "augmentor = ImageDataGenerator(\n",
        "    rotation_range=30,\n",
        "    zoom_range=0.2,\n",
        "    shear_range=0.2,\n",
        "    horizontal_flip=True,\n",
        "    vertical_flip=True,\n",
        "    fill_mode='nearest'\n",
        ")\n",
        "\n",
        "# Source directory\n",
        "source_dir = '/content/Train/Benign keratosis-like lesions'\n",
        "\n",
        "# Augmented save directory\n",
        "aug_dir = '/content/augmented/Benign keratosis-like lesions'\n",
        "os.makedirs(aug_dir, exist_ok=True)\n",
        "\n",
        "# Count of new images needed\n",
        "current_images = len(os.listdir(source_dir))\n",
        "# target = 8000\n",
        "needed = 7500\n",
        "\n",
        "# Augment loop\n",
        "image_files = [f for f in os.listdir(source_dir) if f.endswith(('.jpg', '.jpeg', '.png'))]\n",
        "i = 0\n",
        "while i < needed:\n",
        "    for fname in image_files:\n",
        "        img_path = os.path.join(source_dir, fname)\n",
        "        img = load_img(img_path, target_size=(64,64))\n",
        "        x = img_to_array(img)\n",
        "        x = x.reshape((1,) + x.shape)\n",
        "\n",
        "        for batch in augmentor.flow(x, batch_size=1, save_to_dir=aug_dir,\n",
        "                                     save_prefix='aug', save_format='jpg'):\n",
        "            i += 1\n",
        "            if i >= needed:\n",
        "                break\n",
        "    if needed == 0:\n",
        "        break\n"
      ],
      "metadata": {
        "id": "__BHm0E9X0eF"
      },
      "execution_count": null,
      "outputs": []
    },
    {
      "cell_type": "code",
      "source": [
        "# Source directory\n",
        "source_dir = '/content/Train/Basal cell carcinoma'\n",
        "\n",
        "# Augmented save directory\n",
        "aug_dir = '/content/augmented/Basal cell carcinoma'\n",
        "os.makedirs(aug_dir, exist_ok=True)\n",
        "\n",
        "# Count of new images needed\n",
        "current_images = len(os.listdir(source_dir))\n",
        "target = 8000\n",
        "needed = target - current_images\n",
        "\n",
        "# Augment loop\n",
        "image_files = [f for f in os.listdir(source_dir) if f.endswith(('.jpg', '.jpeg', '.png'))]\n",
        "i = 0\n",
        "while i < needed:\n",
        "    for fname in image_files:\n",
        "        img_path = os.path.join(source_dir, fname)\n",
        "        img = load_img(img_path, target_size=(64,64))\n",
        "        x = img_to_array(img)\n",
        "        x = x.reshape((1,) + x.shape)\n",
        "\n",
        "        for batch in augmentor.flow(x, batch_size=1, save_to_dir=aug_dir,\n",
        "                                     save_prefix='aug', save_format='jpg'):\n",
        "            i += 1\n",
        "            if i >= needed:\n",
        "                break\n",
        "    if needed == 0:\n",
        "        break\n"
      ],
      "metadata": {
        "id": "ApX3wlzzpJDN"
      },
      "execution_count": null,
      "outputs": []
    },
    {
      "cell_type": "code",
      "source": [
        "# Source directory\n",
        "source_dir = '/content/Train/Dermatofibroma'\n",
        "\n",
        "# Augmented save directory\n",
        "aug_dir = '/content/augmented/Dermatofibroma'\n",
        "os.makedirs(aug_dir, exist_ok=True)\n",
        "\n",
        "# Count of new images needed\n",
        "current_images = len(os.listdir(source_dir))\n",
        "target = 8000\n",
        "needed = target - current_images\n",
        "\n",
        "# Augment loop\n",
        "image_files = [f for f in os.listdir(source_dir) if f.endswith(('.jpg', '.jpeg', '.png'))]\n",
        "i = 0\n",
        "while i < needed:\n",
        "    for fname in image_files:\n",
        "        img_path = os.path.join(source_dir, fname)\n",
        "        img = load_img(img_path, target_size=(64,64))\n",
        "        x = img_to_array(img)\n",
        "        x = x.reshape((1,) + x.shape)\n",
        "\n",
        "        for batch in augmentor.flow(x, batch_size=1, save_to_dir=aug_dir,\n",
        "                                     save_prefix='aug', save_format='jpg'):\n",
        "            i += 1\n",
        "            if i >= needed:\n",
        "                break\n",
        "    if needed == 0:\n",
        "        break\n"
      ],
      "metadata": {
        "id": "ivL6KubYpUnq"
      },
      "execution_count": null,
      "outputs": []
    },
    {
      "cell_type": "code",
      "source": [
        "# Source directory\n",
        "source_dir = '/content/Train/Melanoma'\n",
        "\n",
        "# Augmented save directory\n",
        "aug_dir = '/content/augmented/Melanoma'\n",
        "os.makedirs(aug_dir, exist_ok=True)\n",
        "\n",
        "# Count of new images needed\n",
        "current_images = len(os.listdir(source_dir))\n",
        "target = 8000\n",
        "needed = target - current_images\n",
        "\n",
        "# Augment loop\n",
        "image_files = [f for f in os.listdir(source_dir) if f.endswith(('.jpg', '.jpeg', '.png'))]\n",
        "i = 0\n",
        "while i < needed:\n",
        "    for fname in image_files:\n",
        "        img_path = os.path.join(source_dir, fname)\n",
        "        img = load_img(img_path, target_size=(64,64))\n",
        "        x = img_to_array(img)\n",
        "        x = x.reshape((1,) + x.shape)\n",
        "\n",
        "        for batch in augmentor.flow(x, batch_size=1, save_to_dir=aug_dir,\n",
        "                                     save_prefix='aug', save_format='jpg'):\n",
        "            i += 1\n",
        "            if i >= needed:\n",
        "                break\n",
        "    if needed == 0:\n",
        "        break\n"
      ],
      "metadata": {
        "id": "YEDVL7Ibphby"
      },
      "execution_count": null,
      "outputs": []
    },
    {
      "cell_type": "code",
      "source": [
        "# Source directory\n",
        "source_dir = '/content/Train/Squamous cell carcinoma'\n",
        "\n",
        "# Augmented save directory\n",
        "aug_dir = '/content/augmented/Squamous cell carcinoma'\n",
        "os.makedirs(aug_dir, exist_ok=True)\n",
        "\n",
        "# Count of new images needed\n",
        "current_images = len(os.listdir(source_dir))\n",
        "target = 8000\n",
        "needed = target - current_images\n",
        "\n",
        "# Augment loop\n",
        "image_files = [f for f in os.listdir(source_dir) if f.endswith(('.jpg', '.jpeg', '.png'))]\n",
        "i = 0\n",
        "while i < needed:\n",
        "    for fname in image_files:\n",
        "        img_path = os.path.join(source_dir, fname)\n",
        "        img = load_img(img_path, target_size=(64,64))\n",
        "        x = img_to_array(img)\n",
        "        x = x.reshape((1,) + x.shape)\n",
        "\n",
        "        for batch in augmentor.flow(x, batch_size=1, save_to_dir=aug_dir,\n",
        "                                     save_prefix='aug', save_format='jpg'):\n",
        "            i += 1\n",
        "            if i >= needed:\n",
        "                break\n",
        "    if needed == 0:\n",
        "        break\n"
      ],
      "metadata": {
        "id": "9HtC0oLGpo14"
      },
      "execution_count": null,
      "outputs": []
    },
    {
      "cell_type": "code",
      "source": [
        "import os\n",
        "import shutil\n",
        "\n",
        "# Define the base paths\n",
        "original_base = '/content/Train'\n",
        "augmented_base = '/content/augmented'\n",
        "\n",
        "# Loop through each class folder in augmented directory\n",
        "for class_name in os.listdir(augmented_base):\n",
        "    aug_class_dir = os.path.join(augmented_base, class_name)\n",
        "    orig_class_dir = os.path.join(original_base, class_name)\n",
        "\n",
        "    if not os.path.exists(orig_class_dir):\n",
        "        os.makedirs(orig_class_dir)\n",
        "\n",
        "    # Move each file\n",
        "    for file_name in os.listdir(aug_class_dir):\n",
        "        src_file = os.path.join(aug_class_dir, file_name)\n",
        "        dst_file = os.path.join(orig_class_dir, file_name)\n",
        "\n",
        "        if not os.path.exists(dst_file):  # avoid overwriting\n",
        "            shutil.move(src_file, dst_file)\n",
        "\n",
        "print(\"✅ All augmented images have been merged into original folders.\")\n"
      ],
      "metadata": {
        "colab": {
          "base_uri": "https://localhost:8080/"
        },
        "id": "X53QnZQJb8sC",
        "outputId": "bb5b65f0-ba22-480d-da6a-2339d70c99de"
      },
      "execution_count": null,
      "outputs": [
        {
          "output_type": "stream",
          "name": "stdout",
          "text": [
            "✅ All augmented images have been merged into original folders.\n"
          ]
        }
      ]
    },
    {
      "cell_type": "code",
      "source": [
        "# Set the path to your dataset folder\n",
        "data_dir = '/content/Train'\n",
        "\n",
        "# List each class and count images\n",
        "for class_name in os.listdir(data_dir):\n",
        "    class_path = os.path.join(data_dir, class_name)\n",
        "    if os.path.isdir(class_path):\n",
        "        num_images = len([\n",
        "            f for f in os.listdir(class_path)\n",
        "            if f.lower().endswith(('.jpg', '.jpeg', '.png'))\n",
        "        ])\n",
        "        print(f\"{class_name}: {num_images} images\")\n"
      ],
      "metadata": {
        "colab": {
          "base_uri": "https://localhost:8080/"
        },
        "id": "NQONIvcVxrPR",
        "outputId": "ee66f193-f217-43c1-d156-3b23e9f6bd61"
      },
      "execution_count": null,
      "outputs": [
        {
          "output_type": "stream",
          "name": "stdout",
          "text": [
            "Dermatofibroma: 5681 images\n",
            "Benign: 8742 images\n",
            "Benign keratosis-like lesions: 7607 images\n",
            "Squamous cell carcinoma: 5878 images\n",
            "Melanoma: 8448 images\n",
            "Melanocytic nevi: 8118 images\n",
            "malignant: 8950 images\n",
            "Basal cell carcinoma: 7629 images\n"
          ]
        }
      ]
    },
    {
      "cell_type": "code",
      "source": [
        "# generators\n",
        "AUTOTUNE = tf.data.AUTOTUNE\n",
        "\n",
        "train_ds = keras.utils.image_dataset_from_directory(\n",
        "    directory = '/content/Train',\n",
        "    labels='inferred',\n",
        "    label_mode = 'int',\n",
        "    batch_size=32,\n",
        "    image_size=(64,64)\n",
        ").cache().shuffle(1000).prefetch(buffer_size=AUTOTUNE)\n",
        "\n",
        "validation_ds = keras.utils.image_dataset_from_directory(\n",
        "    directory = '/content/Val',\n",
        "    labels='inferred',\n",
        "    label_mode = 'int',\n",
        "    batch_size=32,\n",
        "    image_size=(64,64)\n",
        ").cache().prefetch(buffer_size=AUTOTUNE)"
      ],
      "metadata": {
        "colab": {
          "base_uri": "https://localhost:8080/"
        },
        "id": "ucGl_alccZAL",
        "outputId": "3b5d4da4-8509-4053-d683-a0c9ba971738"
      },
      "execution_count": null,
      "outputs": [
        {
          "output_type": "stream",
          "name": "stdout",
          "text": [
            "Found 61053 files belonging to 8 classes.\n",
            "Found 14132 files belonging to 8 classes.\n"
          ]
        }
      ]
    },
    {
      "cell_type": "code",
      "source": [
        "# Normalize\n",
        "def process(image,label):\n",
        "    image = tf.cast(image/255. ,tf.float32)\n",
        "    return image,label\n",
        "\n",
        "train_ds = train_ds.map(process)\n",
        "validation_ds = validation_ds.map(process)"
      ],
      "metadata": {
        "id": "tiZx3WctcbtB"
      },
      "execution_count": null,
      "outputs": []
    },
    {
      "cell_type": "code",
      "source": [
        "base_model = ResNet50(\n",
        "    weights='imagenet',\n",
        "    include_top=False,\n",
        "    input_shape=(64,64,3)\n",
        ")"
      ],
      "metadata": {
        "colab": {
          "base_uri": "https://localhost:8080/"
        },
        "id": "BEfAGn8ecfXS",
        "outputId": "44387e49-f6bd-401b-f285-8e0ed9ad0741"
      },
      "execution_count": null,
      "outputs": [
        {
          "output_type": "stream",
          "name": "stdout",
          "text": [
            "Downloading data from https://storage.googleapis.com/tensorflow/keras-applications/resnet/resnet50_weights_tf_dim_ordering_tf_kernels_notop.h5\n",
            "\u001b[1m94765736/94765736\u001b[0m \u001b[32m━━━━━━━━━━━━━━━━━━━━\u001b[0m\u001b[37m\u001b[0m \u001b[1m5s\u001b[0m 0us/step\n"
          ]
        }
      ]
    },
    {
      "cell_type": "code",
      "source": [
        "base_model.trainable = False"
      ],
      "metadata": {
        "id": "8oFIo4YzdAe9"
      },
      "execution_count": null,
      "outputs": []
    },
    {
      "cell_type": "code",
      "source": [
        "model = Sequential()\n",
        "\n",
        "model.add(base_model)\n",
        "model.add(Flatten())\n",
        "\n",
        "model.add(Dense(128, activation='relu'))\n",
        "model.add(Dropout(0.3))\n",
        "\n",
        "model.add(Dense(64, activation='relu'))\n",
        "model.add(Dropout(0.3))\n",
        "\n",
        "model.add(Dense(8, activation='softmax'))"
      ],
      "metadata": {
        "id": "ORrQ13HWc4dv"
      },
      "execution_count": null,
      "outputs": []
    },
    {
      "cell_type": "code",
      "source": [
        "model.summary()"
      ],
      "metadata": {
        "colab": {
          "base_uri": "https://localhost:8080/",
          "height": 374
        },
        "id": "lE-8tSGOeC4x",
        "outputId": "dd7ff190-921d-479b-d460-cc35b51319af"
      },
      "execution_count": null,
      "outputs": [
        {
          "output_type": "display_data",
          "data": {
            "text/plain": [
              "\u001b[1mModel: \"sequential\"\u001b[0m\n"
            ],
            "text/html": [
              "<pre style=\"white-space:pre;overflow-x:auto;line-height:normal;font-family:Menlo,'DejaVu Sans Mono',consolas,'Courier New',monospace\"><span style=\"font-weight: bold\">Model: \"sequential\"</span>\n",
              "</pre>\n"
            ]
          },
          "metadata": {}
        },
        {
          "output_type": "display_data",
          "data": {
            "text/plain": [
              "┏━━━━━━━━━━━━━━━━━━━━━━━━━━━━━━━━━┳━━━━━━━━━━━━━━━━━━━━━━━━┳━━━━━━━━━━━━━━━┓\n",
              "┃\u001b[1m \u001b[0m\u001b[1mLayer (type)                   \u001b[0m\u001b[1m \u001b[0m┃\u001b[1m \u001b[0m\u001b[1mOutput Shape          \u001b[0m\u001b[1m \u001b[0m┃\u001b[1m \u001b[0m\u001b[1m      Param #\u001b[0m\u001b[1m \u001b[0m┃\n",
              "┡━━━━━━━━━━━━━━━━━━━━━━━━━━━━━━━━━╇━━━━━━━━━━━━━━━━━━━━━━━━╇━━━━━━━━━━━━━━━┩\n",
              "│ resnet50 (\u001b[38;5;33mFunctional\u001b[0m)           │ (\u001b[38;5;45mNone\u001b[0m, \u001b[38;5;34m2\u001b[0m, \u001b[38;5;34m2\u001b[0m, \u001b[38;5;34m2048\u001b[0m)     │    \u001b[38;5;34m23,587,712\u001b[0m │\n",
              "├─────────────────────────────────┼────────────────────────┼───────────────┤\n",
              "│ flatten (\u001b[38;5;33mFlatten\u001b[0m)               │ (\u001b[38;5;45mNone\u001b[0m, \u001b[38;5;34m8192\u001b[0m)           │             \u001b[38;5;34m0\u001b[0m │\n",
              "├─────────────────────────────────┼────────────────────────┼───────────────┤\n",
              "│ dense (\u001b[38;5;33mDense\u001b[0m)                   │ (\u001b[38;5;45mNone\u001b[0m, \u001b[38;5;34m128\u001b[0m)            │     \u001b[38;5;34m1,048,704\u001b[0m │\n",
              "├─────────────────────────────────┼────────────────────────┼───────────────┤\n",
              "│ dropout (\u001b[38;5;33mDropout\u001b[0m)               │ (\u001b[38;5;45mNone\u001b[0m, \u001b[38;5;34m128\u001b[0m)            │             \u001b[38;5;34m0\u001b[0m │\n",
              "├─────────────────────────────────┼────────────────────────┼───────────────┤\n",
              "│ dense_1 (\u001b[38;5;33mDense\u001b[0m)                 │ (\u001b[38;5;45mNone\u001b[0m, \u001b[38;5;34m64\u001b[0m)             │         \u001b[38;5;34m8,256\u001b[0m │\n",
              "├─────────────────────────────────┼────────────────────────┼───────────────┤\n",
              "│ dropout_1 (\u001b[38;5;33mDropout\u001b[0m)             │ (\u001b[38;5;45mNone\u001b[0m, \u001b[38;5;34m64\u001b[0m)             │             \u001b[38;5;34m0\u001b[0m │\n",
              "├─────────────────────────────────┼────────────────────────┼───────────────┤\n",
              "│ dense_2 (\u001b[38;5;33mDense\u001b[0m)                 │ (\u001b[38;5;45mNone\u001b[0m, \u001b[38;5;34m8\u001b[0m)              │           \u001b[38;5;34m520\u001b[0m │\n",
              "└─────────────────────────────────┴────────────────────────┴───────────────┘\n"
            ],
            "text/html": [
              "<pre style=\"white-space:pre;overflow-x:auto;line-height:normal;font-family:Menlo,'DejaVu Sans Mono',consolas,'Courier New',monospace\">┏━━━━━━━━━━━━━━━━━━━━━━━━━━━━━━━━━┳━━━━━━━━━━━━━━━━━━━━━━━━┳━━━━━━━━━━━━━━━┓\n",
              "┃<span style=\"font-weight: bold\"> Layer (type)                    </span>┃<span style=\"font-weight: bold\"> Output Shape           </span>┃<span style=\"font-weight: bold\">       Param # </span>┃\n",
              "┡━━━━━━━━━━━━━━━━━━━━━━━━━━━━━━━━━╇━━━━━━━━━━━━━━━━━━━━━━━━╇━━━━━━━━━━━━━━━┩\n",
              "│ resnet50 (<span style=\"color: #0087ff; text-decoration-color: #0087ff\">Functional</span>)           │ (<span style=\"color: #00d7ff; text-decoration-color: #00d7ff\">None</span>, <span style=\"color: #00af00; text-decoration-color: #00af00\">2</span>, <span style=\"color: #00af00; text-decoration-color: #00af00\">2</span>, <span style=\"color: #00af00; text-decoration-color: #00af00\">2048</span>)     │    <span style=\"color: #00af00; text-decoration-color: #00af00\">23,587,712</span> │\n",
              "├─────────────────────────────────┼────────────────────────┼───────────────┤\n",
              "│ flatten (<span style=\"color: #0087ff; text-decoration-color: #0087ff\">Flatten</span>)               │ (<span style=\"color: #00d7ff; text-decoration-color: #00d7ff\">None</span>, <span style=\"color: #00af00; text-decoration-color: #00af00\">8192</span>)           │             <span style=\"color: #00af00; text-decoration-color: #00af00\">0</span> │\n",
              "├─────────────────────────────────┼────────────────────────┼───────────────┤\n",
              "│ dense (<span style=\"color: #0087ff; text-decoration-color: #0087ff\">Dense</span>)                   │ (<span style=\"color: #00d7ff; text-decoration-color: #00d7ff\">None</span>, <span style=\"color: #00af00; text-decoration-color: #00af00\">128</span>)            │     <span style=\"color: #00af00; text-decoration-color: #00af00\">1,048,704</span> │\n",
              "├─────────────────────────────────┼────────────────────────┼───────────────┤\n",
              "│ dropout (<span style=\"color: #0087ff; text-decoration-color: #0087ff\">Dropout</span>)               │ (<span style=\"color: #00d7ff; text-decoration-color: #00d7ff\">None</span>, <span style=\"color: #00af00; text-decoration-color: #00af00\">128</span>)            │             <span style=\"color: #00af00; text-decoration-color: #00af00\">0</span> │\n",
              "├─────────────────────────────────┼────────────────────────┼───────────────┤\n",
              "│ dense_1 (<span style=\"color: #0087ff; text-decoration-color: #0087ff\">Dense</span>)                 │ (<span style=\"color: #00d7ff; text-decoration-color: #00d7ff\">None</span>, <span style=\"color: #00af00; text-decoration-color: #00af00\">64</span>)             │         <span style=\"color: #00af00; text-decoration-color: #00af00\">8,256</span> │\n",
              "├─────────────────────────────────┼────────────────────────┼───────────────┤\n",
              "│ dropout_1 (<span style=\"color: #0087ff; text-decoration-color: #0087ff\">Dropout</span>)             │ (<span style=\"color: #00d7ff; text-decoration-color: #00d7ff\">None</span>, <span style=\"color: #00af00; text-decoration-color: #00af00\">64</span>)             │             <span style=\"color: #00af00; text-decoration-color: #00af00\">0</span> │\n",
              "├─────────────────────────────────┼────────────────────────┼───────────────┤\n",
              "│ dense_2 (<span style=\"color: #0087ff; text-decoration-color: #0087ff\">Dense</span>)                 │ (<span style=\"color: #00d7ff; text-decoration-color: #00d7ff\">None</span>, <span style=\"color: #00af00; text-decoration-color: #00af00\">8</span>)              │           <span style=\"color: #00af00; text-decoration-color: #00af00\">520</span> │\n",
              "└─────────────────────────────────┴────────────────────────┴───────────────┘\n",
              "</pre>\n"
            ]
          },
          "metadata": {}
        },
        {
          "output_type": "display_data",
          "data": {
            "text/plain": [
              "\u001b[1m Total params: \u001b[0m\u001b[38;5;34m24,645,192\u001b[0m (94.01 MB)\n"
            ],
            "text/html": [
              "<pre style=\"white-space:pre;overflow-x:auto;line-height:normal;font-family:Menlo,'DejaVu Sans Mono',consolas,'Courier New',monospace\"><span style=\"font-weight: bold\"> Total params: </span><span style=\"color: #00af00; text-decoration-color: #00af00\">24,645,192</span> (94.01 MB)\n",
              "</pre>\n"
            ]
          },
          "metadata": {}
        },
        {
          "output_type": "display_data",
          "data": {
            "text/plain": [
              "\u001b[1m Trainable params: \u001b[0m\u001b[38;5;34m1,057,480\u001b[0m (4.03 MB)\n"
            ],
            "text/html": [
              "<pre style=\"white-space:pre;overflow-x:auto;line-height:normal;font-family:Menlo,'DejaVu Sans Mono',consolas,'Courier New',monospace\"><span style=\"font-weight: bold\"> Trainable params: </span><span style=\"color: #00af00; text-decoration-color: #00af00\">1,057,480</span> (4.03 MB)\n",
              "</pre>\n"
            ]
          },
          "metadata": {}
        },
        {
          "output_type": "display_data",
          "data": {
            "text/plain": [
              "\u001b[1m Non-trainable params: \u001b[0m\u001b[38;5;34m23,587,712\u001b[0m (89.98 MB)\n"
            ],
            "text/html": [
              "<pre style=\"white-space:pre;overflow-x:auto;line-height:normal;font-family:Menlo,'DejaVu Sans Mono',consolas,'Courier New',monospace\"><span style=\"font-weight: bold\"> Non-trainable params: </span><span style=\"color: #00af00; text-decoration-color: #00af00\">23,587,712</span> (89.98 MB)\n",
              "</pre>\n"
            ]
          },
          "metadata": {}
        }
      ]
    },
    {
      "cell_type": "code",
      "source": [
        "from tensorflow.keras.callbacks import EarlyStopping\n",
        "\n",
        "early_stop = EarlyStopping(\n",
        "    monitor='val_loss',\n",
        "    patience=5,\n",
        "    restore_best_weights=True\n",
        ")"
      ],
      "metadata": {
        "id": "JTCDTU-IdyxH"
      },
      "execution_count": null,
      "outputs": []
    },
    {
      "cell_type": "code",
      "source": [
        "from tensorflow.keras.optimizers import Adam\n",
        "Optimizer = Adam(learning_rate=0.0001)"
      ],
      "metadata": {
        "id": "D1u6JzxofQ-f"
      },
      "execution_count": null,
      "outputs": []
    },
    {
      "cell_type": "code",
      "source": [
        "model.compile(optimizer=Optimizer, loss='sparse_categorical_crossentropy', metrics=['accuracy'])"
      ],
      "metadata": {
        "id": "ez9wcZRpeSGH"
      },
      "execution_count": null,
      "outputs": []
    },
    {
      "cell_type": "code",
      "source": [
        "history = model.fit(train_ds, epochs=100, validation_data=validation_ds, callbacks=early_stop)"
      ],
      "metadata": {
        "colab": {
          "base_uri": "https://localhost:8080/"
        },
        "id": "jIYTGCyWfKi9",
        "outputId": "6956fbbb-ef3a-4e20-c70d-47d4c88870d2"
      },
      "execution_count": null,
      "outputs": [
        {
          "output_type": "stream",
          "name": "stdout",
          "text": [
            "Epoch 1/100\n",
            "\u001b[1m1908/1908\u001b[0m \u001b[32m━━━━━━━━━━━━━━━━━━━━\u001b[0m\u001b[37m\u001b[0m \u001b[1m275s\u001b[0m 90ms/step - accuracy: 0.2308 - loss: 1.9154 - val_accuracy: 0.2528 - val_loss: 1.8167\n",
            "Epoch 2/100\n",
            "\u001b[1m1908/1908\u001b[0m \u001b[32m━━━━━━━━━━━━━━━━━━━━\u001b[0m\u001b[37m\u001b[0m \u001b[1m92s\u001b[0m 19ms/step - accuracy: 0.4028 - loss: 1.5969 - val_accuracy: 0.3294 - val_loss: 1.6604\n",
            "Epoch 3/100\n",
            "\u001b[1m1908/1908\u001b[0m \u001b[32m━━━━━━━━━━━━━━━━━━━━\u001b[0m\u001b[37m\u001b[0m \u001b[1m32s\u001b[0m 17ms/step - accuracy: 0.4849 - loss: 1.4378 - val_accuracy: 0.3584 - val_loss: 1.5725\n",
            "Epoch 4/100\n",
            "\u001b[1m1908/1908\u001b[0m \u001b[32m━━━━━━━━━━━━━━━━━━━━\u001b[0m\u001b[37m\u001b[0m \u001b[1m31s\u001b[0m 16ms/step - accuracy: 0.5249 - loss: 1.3524 - val_accuracy: 0.3614 - val_loss: 1.5718\n",
            "Epoch 5/100\n",
            "\u001b[1m1908/1908\u001b[0m \u001b[32m━━━━━━━━━━━━━━━━━━━━\u001b[0m\u001b[37m\u001b[0m \u001b[1m41s\u001b[0m 17ms/step - accuracy: 0.5447 - loss: 1.2940 - val_accuracy: 0.3529 - val_loss: 1.5796\n",
            "Epoch 6/100\n",
            "\u001b[1m1908/1908\u001b[0m \u001b[32m━━━━━━━━━━━━━━━━━━━━\u001b[0m\u001b[37m\u001b[0m \u001b[1m46s\u001b[0m 19ms/step - accuracy: 0.5583 - loss: 1.2417 - val_accuracy: 0.3825 - val_loss: 1.5161\n",
            "Epoch 7/100\n",
            "\u001b[1m1908/1908\u001b[0m \u001b[32m━━━━━━━━━━━━━━━━━━━━\u001b[0m\u001b[37m\u001b[0m \u001b[1m41s\u001b[0m 19ms/step - accuracy: 0.5690 - loss: 1.2052 - val_accuracy: 0.3893 - val_loss: 1.5075\n",
            "Epoch 8/100\n",
            "\u001b[1m1908/1908\u001b[0m \u001b[32m━━━━━━━━━━━━━━━━━━━━\u001b[0m\u001b[37m\u001b[0m \u001b[1m41s\u001b[0m 19ms/step - accuracy: 0.5772 - loss: 1.1779 - val_accuracy: 0.3997 - val_loss: 1.5034\n",
            "Epoch 9/100\n",
            "\u001b[1m1908/1908\u001b[0m \u001b[32m━━━━━━━━━━━━━━━━━━━━\u001b[0m\u001b[37m\u001b[0m \u001b[1m41s\u001b[0m 19ms/step - accuracy: 0.5794 - loss: 1.1667 - val_accuracy: 0.3796 - val_loss: 1.5372\n",
            "Epoch 10/100\n",
            "\u001b[1m1908/1908\u001b[0m \u001b[32m━━━━━━━━━━━━━━━━━━━━\u001b[0m\u001b[37m\u001b[0m \u001b[1m36s\u001b[0m 17ms/step - accuracy: 0.5876 - loss: 1.1417 - val_accuracy: 0.4021 - val_loss: 1.4786\n",
            "Epoch 11/100\n",
            "\u001b[1m1908/1908\u001b[0m \u001b[32m━━━━━━━━━━━━━━━━━━━━\u001b[0m\u001b[37m\u001b[0m \u001b[1m46s\u001b[0m 19ms/step - accuracy: 0.5873 - loss: 1.1329 - val_accuracy: 0.4203 - val_loss: 1.4619\n",
            "Epoch 12/100\n",
            "\u001b[1m1908/1908\u001b[0m \u001b[32m━━━━━━━━━━━━━━━━━━━━\u001b[0m\u001b[37m\u001b[0m \u001b[1m36s\u001b[0m 17ms/step - accuracy: 0.5883 - loss: 1.1200 - val_accuracy: 0.4282 - val_loss: 1.4399\n",
            "Epoch 13/100\n",
            "\u001b[1m1908/1908\u001b[0m \u001b[32m━━━━━━━━━━━━━━━━━━━━\u001b[0m\u001b[37m\u001b[0m \u001b[1m41s\u001b[0m 17ms/step - accuracy: 0.5916 - loss: 1.1141 - val_accuracy: 0.4358 - val_loss: 1.4515\n",
            "Epoch 14/100\n",
            "\u001b[1m1908/1908\u001b[0m \u001b[32m━━━━━━━━━━━━━━━━━━━━\u001b[0m\u001b[37m\u001b[0m \u001b[1m41s\u001b[0m 17ms/step - accuracy: 0.5972 - loss: 1.0950 - val_accuracy: 0.4247 - val_loss: 1.4620\n",
            "Epoch 15/100\n",
            "\u001b[1m1908/1908\u001b[0m \u001b[32m━━━━━━━━━━━━━━━━━━━━\u001b[0m\u001b[37m\u001b[0m \u001b[1m41s\u001b[0m 17ms/step - accuracy: 0.5990 - loss: 1.0840 - val_accuracy: 0.4359 - val_loss: 1.4269\n",
            "Epoch 16/100\n",
            "\u001b[1m1908/1908\u001b[0m \u001b[32m━━━━━━━━━━━━━━━━━━━━\u001b[0m\u001b[37m\u001b[0m \u001b[1m45s\u001b[0m 19ms/step - accuracy: 0.6013 - loss: 1.0767 - val_accuracy: 0.4342 - val_loss: 1.4303\n",
            "Epoch 17/100\n",
            "\u001b[1m1908/1908\u001b[0m \u001b[32m━━━━━━━━━━━━━━━━━━━━\u001b[0m\u001b[37m\u001b[0m \u001b[1m36s\u001b[0m 17ms/step - accuracy: 0.6036 - loss: 1.0708 - val_accuracy: 0.4474 - val_loss: 1.4057\n",
            "Epoch 18/100\n",
            "\u001b[1m1908/1908\u001b[0m \u001b[32m━━━━━━━━━━━━━━━━━━━━\u001b[0m\u001b[37m\u001b[0m \u001b[1m46s\u001b[0m 19ms/step - accuracy: 0.6069 - loss: 1.0615 - val_accuracy: 0.4504 - val_loss: 1.4073\n",
            "Epoch 19/100\n",
            "\u001b[1m1908/1908\u001b[0m \u001b[32m━━━━━━━━━━━━━━━━━━━━\u001b[0m\u001b[37m\u001b[0m \u001b[1m41s\u001b[0m 19ms/step - accuracy: 0.6071 - loss: 1.0601 - val_accuracy: 0.4362 - val_loss: 1.4608\n",
            "Epoch 20/100\n",
            "\u001b[1m1908/1908\u001b[0m \u001b[32m━━━━━━━━━━━━━━━━━━━━\u001b[0m\u001b[37m\u001b[0m \u001b[1m37s\u001b[0m 17ms/step - accuracy: 0.6066 - loss: 1.0586 - val_accuracy: 0.4526 - val_loss: 1.4072\n",
            "Epoch 21/100\n",
            "\u001b[1m1908/1908\u001b[0m \u001b[32m━━━━━━━━━━━━━━━━━━━━\u001b[0m\u001b[37m\u001b[0m \u001b[1m41s\u001b[0m 17ms/step - accuracy: 0.6083 - loss: 1.0513 - val_accuracy: 0.4566 - val_loss: 1.3981\n",
            "Epoch 22/100\n",
            "\u001b[1m1908/1908\u001b[0m \u001b[32m━━━━━━━━━━━━━━━━━━━━\u001b[0m\u001b[37m\u001b[0m \u001b[1m45s\u001b[0m 19ms/step - accuracy: 0.6130 - loss: 1.0472 - val_accuracy: 0.4519 - val_loss: 1.3930\n",
            "Epoch 23/100\n",
            "\u001b[1m1908/1908\u001b[0m \u001b[32m━━━━━━━━━━━━━━━━━━━━\u001b[0m\u001b[37m\u001b[0m \u001b[1m32s\u001b[0m 17ms/step - accuracy: 0.6140 - loss: 1.0383 - val_accuracy: 0.4668 - val_loss: 1.3876\n",
            "Epoch 24/100\n",
            "\u001b[1m1908/1908\u001b[0m \u001b[32m━━━━━━━━━━━━━━━━━━━━\u001b[0m\u001b[37m\u001b[0m \u001b[1m46s\u001b[0m 19ms/step - accuracy: 0.6156 - loss: 1.0327 - val_accuracy: 0.4706 - val_loss: 1.3802\n",
            "Epoch 25/100\n",
            "\u001b[1m1908/1908\u001b[0m \u001b[32m━━━━━━━━━━━━━━━━━━━━\u001b[0m\u001b[37m\u001b[0m \u001b[1m41s\u001b[0m 19ms/step - accuracy: 0.6142 - loss: 1.0318 - val_accuracy: 0.4726 - val_loss: 1.3724\n",
            "Epoch 26/100\n",
            "\u001b[1m1908/1908\u001b[0m \u001b[32m━━━━━━━━━━━━━━━━━━━━\u001b[0m\u001b[37m\u001b[0m \u001b[1m36s\u001b[0m 17ms/step - accuracy: 0.6158 - loss: 1.0305 - val_accuracy: 0.4785 - val_loss: 1.3719\n",
            "Epoch 27/100\n",
            "\u001b[1m1908/1908\u001b[0m \u001b[32m━━━━━━━━━━━━━━━━━━━━\u001b[0m\u001b[37m\u001b[0m \u001b[1m41s\u001b[0m 17ms/step - accuracy: 0.6165 - loss: 1.0252 - val_accuracy: 0.4756 - val_loss: 1.3657\n",
            "Epoch 28/100\n",
            "\u001b[1m1908/1908\u001b[0m \u001b[32m━━━━━━━━━━━━━━━━━━━━\u001b[0m\u001b[37m\u001b[0m \u001b[1m41s\u001b[0m 17ms/step - accuracy: 0.6188 - loss: 1.0191 - val_accuracy: 0.4832 - val_loss: 1.3663\n",
            "Epoch 29/100\n",
            "\u001b[1m1908/1908\u001b[0m \u001b[32m━━━━━━━━━━━━━━━━━━━━\u001b[0m\u001b[37m\u001b[0m \u001b[1m46s\u001b[0m 19ms/step - accuracy: 0.6190 - loss: 1.0134 - val_accuracy: 0.4737 - val_loss: 1.3717\n",
            "Epoch 30/100\n",
            "\u001b[1m1908/1908\u001b[0m \u001b[32m━━━━━━━━━━━━━━━━━━━━\u001b[0m\u001b[37m\u001b[0m \u001b[1m41s\u001b[0m 19ms/step - accuracy: 0.6196 - loss: 1.0113 - val_accuracy: 0.4670 - val_loss: 1.3706\n",
            "Epoch 31/100\n",
            "\u001b[1m1908/1908\u001b[0m \u001b[32m━━━━━━━━━━━━━━━━━━━━\u001b[0m\u001b[37m\u001b[0m \u001b[1m36s\u001b[0m 17ms/step - accuracy: 0.6180 - loss: 1.0161 - val_accuracy: 0.4866 - val_loss: 1.3448\n",
            "Epoch 32/100\n",
            "\u001b[1m1908/1908\u001b[0m \u001b[32m━━━━━━━━━━━━━━━━━━━━\u001b[0m\u001b[37m\u001b[0m \u001b[1m41s\u001b[0m 17ms/step - accuracy: 0.6203 - loss: 1.0110 - val_accuracy: 0.4859 - val_loss: 1.3559\n",
            "Epoch 33/100\n",
            "\u001b[1m1908/1908\u001b[0m \u001b[32m━━━━━━━━━━━━━━━━━━━━\u001b[0m\u001b[37m\u001b[0m \u001b[1m32s\u001b[0m 17ms/step - accuracy: 0.6241 - loss: 1.0033 - val_accuracy: 0.4866 - val_loss: 1.3433\n",
            "Epoch 34/100\n",
            "\u001b[1m1908/1908\u001b[0m \u001b[32m━━━━━━━━━━━━━━━━━━━━\u001b[0m\u001b[37m\u001b[0m \u001b[1m46s\u001b[0m 19ms/step - accuracy: 0.6229 - loss: 1.0020 - val_accuracy: 0.4714 - val_loss: 1.3711\n",
            "Epoch 35/100\n",
            "\u001b[1m1908/1908\u001b[0m \u001b[32m━━━━━━━━━━━━━━━━━━━━\u001b[0m\u001b[37m\u001b[0m \u001b[1m37s\u001b[0m 17ms/step - accuracy: 0.6273 - loss: 0.9922 - val_accuracy: 0.4835 - val_loss: 1.3557\n",
            "Epoch 36/100\n",
            "\u001b[1m1908/1908\u001b[0m \u001b[32m━━━━━━━━━━━━━━━━━━━━\u001b[0m\u001b[37m\u001b[0m \u001b[1m46s\u001b[0m 20ms/step - accuracy: 0.6225 - loss: 1.0073 - val_accuracy: 0.4854 - val_loss: 1.3682\n",
            "Epoch 37/100\n",
            "\u001b[1m1908/1908\u001b[0m \u001b[32m━━━━━━━━━━━━━━━━━━━━\u001b[0m\u001b[37m\u001b[0m \u001b[1m33s\u001b[0m 17ms/step - accuracy: 0.6236 - loss: 1.0011 - val_accuracy: 0.4846 - val_loss: 1.3543\n",
            "Epoch 38/100\n",
            "\u001b[1m1908/1908\u001b[0m \u001b[32m━━━━━━━━━━━━━━━━━━━━\u001b[0m\u001b[37m\u001b[0m \u001b[1m41s\u001b[0m 17ms/step - accuracy: 0.6241 - loss: 0.9932 - val_accuracy: 0.4943 - val_loss: 1.3287\n",
            "Epoch 39/100\n",
            "\u001b[1m1908/1908\u001b[0m \u001b[32m━━━━━━━━━━━━━━━━━━━━\u001b[0m\u001b[37m\u001b[0m \u001b[1m41s\u001b[0m 17ms/step - accuracy: 0.6268 - loss: 0.9946 - val_accuracy: 0.4912 - val_loss: 1.3812\n",
            "Epoch 40/100\n",
            "\u001b[1m1908/1908\u001b[0m \u001b[32m━━━━━━━━━━━━━━━━━━━━\u001b[0m\u001b[37m\u001b[0m \u001b[1m46s\u001b[0m 19ms/step - accuracy: 0.6245 - loss: 0.9906 - val_accuracy: 0.4861 - val_loss: 1.3427\n",
            "Epoch 41/100\n",
            "\u001b[1m1908/1908\u001b[0m \u001b[32m━━━━━━━━━━━━━━━━━━━━\u001b[0m\u001b[37m\u001b[0m \u001b[1m37s\u001b[0m 17ms/step - accuracy: 0.6268 - loss: 0.9876 - val_accuracy: 0.4827 - val_loss: 1.3682\n",
            "Epoch 42/100\n",
            "\u001b[1m1908/1908\u001b[0m \u001b[32m━━━━━━━━━━━━━━━━━━━━\u001b[0m\u001b[37m\u001b[0m \u001b[1m38s\u001b[0m 20ms/step - accuracy: 0.6293 - loss: 0.9840 - val_accuracy: 0.4896 - val_loss: 1.3512\n",
            "Epoch 43/100\n",
            "\u001b[1m1908/1908\u001b[0m \u001b[32m━━━━━━━━━━━━━━━━━━━━\u001b[0m\u001b[37m\u001b[0m \u001b[1m36s\u001b[0m 17ms/step - accuracy: 0.6263 - loss: 0.9892 - val_accuracy: 0.4832 - val_loss: 1.3668\n"
          ]
        }
      ]
    },
    {
      "cell_type": "code",
      "source": [
        "# Evaluate the model on test set\n",
        "test_loss, test_accuracy = model.evaluate(validation_ds)\n",
        "print(f\"Test accuracy: {test_accuracy:.4f}\")\n",
        "print(f\"Test loss: {test_loss:.4f}\")"
      ],
      "metadata": {
        "colab": {
          "base_uri": "https://localhost:8080/"
        },
        "outputId": "547c2355-63cc-4e48-db38-0b070f144a70",
        "id": "tFsaT-SErO7_"
      },
      "execution_count": null,
      "outputs": [
        {
          "output_type": "stream",
          "name": "stdout",
          "text": [
            "\u001b[1m442/442\u001b[0m \u001b[32m━━━━━━━━━━━━━━━━━━━━\u001b[0m\u001b[37m\u001b[0m \u001b[1m6s\u001b[0m 13ms/step - accuracy: 0.4950 - loss: 1.3212\n",
            "Test accuracy: 0.4943\n",
            "Test loss: 1.3287\n"
          ]
        }
      ]
    },
    {
      "cell_type": "code",
      "source": [
        "train_loss, train_accuracy = model.evaluate(train_ds)\n",
        "print(f\"Train accuracy: {train_accuracy:.4f}\") ;\n",
        "print(f\"Train loss: {train_loss:.4f}\")"
      ],
      "metadata": {
        "colab": {
          "base_uri": "https://localhost:8080/"
        },
        "outputId": "fa2615d7-2629-4603-ca49-5b042444f2dd",
        "id": "d1hTnA5VrO8B"
      },
      "execution_count": null,
      "outputs": [
        {
          "output_type": "stream",
          "name": "stdout",
          "text": [
            "\u001b[1m1908/1908\u001b[0m \u001b[32m━━━━━━━━━━━━━━━━━━━━\u001b[0m\u001b[37m\u001b[0m \u001b[1m27s\u001b[0m 14ms/step - accuracy: 0.6423 - loss: 0.9363\n",
            "Train accuracy: 0.6423\n",
            "Train loss: 0.9337\n"
          ]
        }
      ]
    },
    {
      "cell_type": "code",
      "source": [
        "plt.plot(history.history['accuracy'],label='train')\n",
        "plt.plot(history.history['val_accuracy'],label='validation')\n",
        "plt.legend()\n",
        "plt.show()"
      ],
      "metadata": {
        "colab": {
          "base_uri": "https://localhost:8080/",
          "height": 430
        },
        "outputId": "c2d08b6a-2b39-460c-c08d-509a7026bb3b",
        "id": "zHIuxFbgrO8B"
      },
      "execution_count": null,
      "outputs": [
        {
          "output_type": "display_data",
          "data": {
            "text/plain": [
              "<Figure size 640x480 with 1 Axes>"
            ],
            "image/png": "[encoded data removed]"
          },
          "metadata": {}
        }
      ]
    },
    {
      "cell_type": "code",
      "source": [
        "plt.plot(history.history['loss'],label='train')\n",
        "plt.plot(history.history['val_loss'],label='validation')\n",
        "plt.legend()\n",
        "plt.show()"
      ],
      "metadata": {
        "colab": {
          "base_uri": "https://localhost:8080/",
          "height": 430
        },
        "outputId": "de57be18-1ffd-4c61-87c8-033a3938c124",
        "id": "ZxrXGDMfrO8B"
      },
      "execution_count": null,
      "outputs": [
        {
          "output_type": "display_data",
          "data": {
            "text/plain": [
              "<Figure size 640x480 with 1 Axes>"
            ],
            "image/png": "[encoded data removed]"
          },
          "metadata": {}
        }
      ]
    }
  ]
}